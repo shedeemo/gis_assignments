{
  "cells": [
    {
      "cell_type": "markdown",
      "metadata": {
        "id": "pylgNnGkm1lL"
      },
      "source": [
        "<a href=\"https://colab.research.google.com/github/gisalgs/notebooks/blob/main/projections1-colab.ipynb\">\n",
        "  <img src=\"https://colab.research.google.com/assets/colab-badge.svg\" alt=\"Open In Colab\"/>\n",
        "</a>\n",
        "\n",
        "# Map Projections (Halloween Edition)\n",
        "\n",
        "<img width=555px src=\"https://github.com/gisalgs/notebooks/blob/main/figures/halloween-hall-of-fame.png?raw=1\"/>\n",
        "\n",
        "The goal of a map projection is to transform points in a spherical coordinate system onto a two dimensional Cartesian coordinate system. In other words, points on earth surface that are measured in longitude ($\\lambda$) and latitude ($\\varphi$) pairs become points on a two dimensional plane measured as horizontal ($x$) and vertical ($y$) coordinates. We can imagine there are functions that takes in the longitude and latitude of a point and returns the X and Y coordinates:\n",
        "\n",
        "$x = f(\\lambda, \\varphi)$  \n",
        "$y = f(\\lambda, \\varphi)$\n",
        "\n",
        "A straightforward transformation from a mathematical perspective is the special case of the **equirectangular** projection that basically does not do anything other than just use the longitude as the X coordinate, and latitude as Y:\n",
        "\n",
        "$x = \\lambda$  \n",
        "$y = \\varphi$\n",
        "\n",
        "## Data preparation\n",
        "\n",
        "To see how any projection actually looks like, we will need the appropriate data sets to begin with. Specifically we need two kinds of data here, the world coast lines and the graticule:\n",
        "\n",
        "* The world coast lines from Natural Earth, in two formats:\n",
        "    * A shapefile that is compressed as a tar.gz file at the [Github site](https://github.com/gisalgs/data/blob/master/ne_110m_coastline.tar.gz) (need to uncompress it after downloading).\n",
        "    * A GeoJSON file at the [Github site](https://github.com/gisalgs/data/blob/master/ne_110m_coastline.geojson). Click on the Raw button to save the file or directly download it at https://raw.githubusercontent.com/gisalgs/data/master/ne_110m_coastline.geojson.\n",
        "    * Both file formats can be useful on local computers. However, the GeoJSON is also suitable for online notebooks and can be used without being downloaded to local computers as well. This is also a place to re-enforce the difference between the two formats and appreciate why GeoJSON has picked so much popularity lately. Clicking on [this link](https://github.com/gisalgs/data/blob/master/ne_110m_coastline.geojson) allows us to see immediately rendering of the spatial data in the GeoJSON file, which is made possible by a lot of reasons but first reason being everything in the spatial data is encoded in ONE place/file and in plain text. This enables the file to be read and processed easily in different programming languages. [Here](https://github.com/gisalgs/data/blob/master/uscnty48area.geojson) is another example of GeoJSON using the counties data. But shapefile, unfortunately, is not designed in this way, which is understandable given how old this one is, because it has multiples file encoded in binary code that must be specially decoded.\n",
        "* The graticule, however, is not stored in a file (though we could certainly do that). Instead, we will dynamically generate the graticule using Python code. \n",
        "\n",
        "### Generating the graticule\n",
        "\n",
        "> The term graticule is commonly used in cartography, referring to the network formed by the lines of latitudes and longitudes, or parallels and meridians. Sometimes people use the term grid for this purpose, but we as geospatial professionals should know better: lines that form a grid are not necessarily parallels and meridians. We can use any lines to make up a grid.\n",
        "\n",
        "We first find a way to systematically generate the lines of latitudes and longitudes. Before we get to the coding part, let's decide how we want our data to be organized. While there are many ways to do this, the bottom line for an projection is that we must be able to change the coordinates of each point from one system to another. There is not way this can be avoid. For this reason, we will literally store each point individually. Along with the point's coordinates, we also give it a unique number that indicates which line this point belongs to. For example, we make sure `[12, -83, 40]` is the point that is on a line with an ID of 12, and the coordinates of the point is -83, 40 (sounds familiar?). We will then put all the points in this way, in a list.\n",
        "\n",
        "Now we are going to get the points on the graticule first. We can't get all the points because that wold be infinite number of them. Instead, we use an interval of 10 for the points on the parallels and meridians. Now we have the code:"
      ]
    },
    {
      "cell_type": "code",
      "execution_count": null,
      "metadata": {
        "id": "cmle_2Aom1lO",
        "colab": {
          "base_uri": "https://localhost:8080/"
        },
        "outputId": "0f4925e5-c23e-453a-c0ff-380b05eadc6f"
      },
      "outputs": [
        {
          "output_type": "stream",
          "name": "stdout",
          "text": [
            "56 19 37\n",
            "25.107142857142858\n"
          ]
        }
      ],
      "source": [
        "raw_points=[]\n",
        "linenum = 0\n",
        "lat0, lat1 = -90, 91    # start and end lagitidues (south and north poles)\n",
        "lon0, lon1 = -180, 181  # range of longitudes\n",
        "\n",
        "# points on the parallels\n",
        "for lat in range(lat0, lat1, 10):\n",
        "    for lon in range(lon0, lon1, 10):\n",
        "        raw_points.append([linenum, lon, lat])\n",
        "    linenum += 1\n",
        "\n",
        "p_par = linenum\n",
        "# TODO:\n",
        "#     use the same logic to get the points on the meridians\n",
        "\n",
        "for lon in range(lon0, lon1, 10):\n",
        "  for lat in range(lat0, lat1, 10):\n",
        "    raw_points.append([linenum, lon, lat])\n",
        "  linenum += 1\n",
        "\n",
        "p_merid = linenum - p_par\n",
        "print(linenum, p_par, p_merid)\n",
        "\n",
        "print(len(raw_points) / 56)\n",
        "\n",
        "\n",
        "numgraticule = linenum"
      ]
    },
    {
      "cell_type": "markdown",
      "metadata": {
        "id": "SMnbSkUlm1lQ"
      },
      "source": [
        "The last two points in the graticule, as we set it, will be the two points on the meridian 180 for latitudes 80 and 90. "
      ]
    },
    {
      "cell_type": "code",
      "execution_count": null,
      "metadata": {
        "id": "0qC5HtjUm1lR",
        "colab": {
          "base_uri": "https://localhost:8080/"
        },
        "outputId": "77cf86e5-f730-4dfa-cbd5-eff92a1bf3a1"
      },
      "outputs": [
        {
          "output_type": "execute_result",
          "data": {
            "text/plain": [
              "([55, 180, 80], [55, 180, 90])"
            ]
          },
          "metadata": {},
          "execution_count": 34
        }
      ],
      "source": [
        "raw_points[-2], raw_points[-1]"
      ]
    },
    {
      "cell_type": "markdown",
      "metadata": {
        "id": "dz0xH6q3m1lR"
      },
      "source": [
        "Now we check how many lines form the graticule. "
      ]
    },
    {
      "cell_type": "code",
      "execution_count": null,
      "metadata": {
        "id": "9kAFlnnnm1lS",
        "colab": {
          "base_uri": "https://localhost:8080/"
        },
        "outputId": "ba049030-e7f0-4fda-fc66-55844098ab4c"
      },
      "outputs": [
        {
          "output_type": "execute_result",
          "data": {
            "text/plain": [
              "56"
            ]
          },
          "metadata": {},
          "execution_count": 35
        }
      ],
      "source": [
        "numgraticule"
      ]
    },
    {
      "cell_type": "markdown",
      "metadata": {
        "id": "1hMNojxMm1lT"
      },
      "source": [
        "### Getting the coastlines\n",
        "\n",
        "In order to directly load the online GeoJSON file into our program here, we need to import a couple of modules. The first module (urllib) is a powerful tool designed to scrap information from online sources. The second is the json module that provides tremendous convenience to handle JSON data in general in Python programs."
      ]
    },
    {
      "cell_type": "code",
      "execution_count": null,
      "metadata": {
        "id": "iHQBK9bSm1lU"
      },
      "outputs": [],
      "source": [
        "import urllib.request as request\n",
        "import json "
      ]
    },
    {
      "cell_type": "markdown",
      "metadata": {
        "id": "SN9jQcVFm1lU"
      },
      "source": [
        "The next step is to read the data from the online file. We will use the `with` statement in Python. When we read data from a file (online or not), something special happens: the bits in the file will be continuously read from the file into the computer memory. We don't call it streaming, but it is close. During the process, we want to make sure the file keeps open so we can continue to read (or write if applicable) the stuff. The `with` statement does just that: it makes sure we can continue to hold the file for reading and writing, and it will release the resource (i.e., file) when we are done. In Python, a `with` statement uses a colon to specific the code that will handle the file. When we exit the code block (i.e., un-indent) the resource is released, meaning other programs can use it. \n",
        "\n",
        "The use of `request.urlopen` returns an object of a class called [HTTPResponse](https://docs.python.org/3.3/library/http.client.html#httpresponse-objects) that gives us a handle to deal with the HTTP response from an online service. HTTP stands for Hypertext Transfer Protocol, a foundation on which the entire Web is built. For our case, it allows us to read data from the online source. \n",
        "\n",
        "When we read things from a web page (note the GeoJSON file is treated as a web page as everything on the web because of its URL), we get a string. The easiest and quickest way to convert a string into an actual JSON object or Python dictionary is to use the `loads` method from the `json` module. This directly returns an object that can be immediately used -- it is a dictionary."
      ]
    },
    {
      "cell_type": "code",
      "execution_count": null,
      "metadata": {
        "id": "nAVkdTREm1lV"
      },
      "outputs": [],
      "source": [
        "url = 'https://raw.githubusercontent.com/gisalgs/data/master/ne_110m_coastline.geojson'\n",
        "with request.urlopen(url) as response:\n",
        "    coastline_obj = json.loads(response.read())"
      ]
    },
    {
      "cell_type": "markdown",
      "metadata": {
        "id": "5L2p_NJKm1lV"
      },
      "source": [
        "The keys in this dictionary includes the ones we have seen before."
      ]
    },
    {
      "cell_type": "code",
      "execution_count": null,
      "metadata": {
        "id": "uTLTluWem1lV",
        "colab": {
          "base_uri": "https://localhost:8080/"
        },
        "outputId": "2702dfdb-c746-4695-cae9-4808ba1c54c5"
      },
      "outputs": [
        {
          "output_type": "execute_result",
          "data": {
            "text/plain": [
              "dict_keys(['type', 'name', 'crs', 'features'])"
            ]
          },
          "metadata": {},
          "execution_count": 38
        }
      ],
      "source": [
        "coastline_obj.keys()"
      ]
    },
    {
      "cell_type": "markdown",
      "metadata": {
        "id": "uR2Blg9nm1lV"
      },
      "source": [
        "We can see how many features in the GeoJSON:"
      ]
    },
    {
      "cell_type": "code",
      "execution_count": null,
      "metadata": {
        "id": "RajO4KQJm1lV",
        "colab": {
          "base_uri": "https://localhost:8080/"
        },
        "outputId": "c9fe8d4d-f728-4316-d753-07e65dcfe086"
      },
      "outputs": [
        {
          "output_type": "execute_result",
          "data": {
            "text/plain": [
              "134"
            ]
          },
          "metadata": {},
          "execution_count": 39
        }
      ],
      "source": [
        "len(coastline_obj['features'])"
      ]
    },
    {
      "cell_type": "markdown",
      "metadata": {
        "id": "DY3HTGNUm1lV"
      },
      "source": [
        "There are 134 lines in the file and we can get each of the features like this:"
      ]
    },
    {
      "cell_type": "code",
      "execution_count": null,
      "metadata": {
        "id": "p0ig5Mznm1lV",
        "colab": {
          "base_uri": "https://localhost:8080/"
        },
        "outputId": "a685479e-af51-4062-be42-feb3e1de0eea"
      },
      "outputs": [
        {
          "output_type": "execute_result",
          "data": {
            "text/plain": [
              "{'scalerank': 1, 'featurecla': 'Coastline'}"
            ]
          },
          "metadata": {},
          "execution_count": 40
        }
      ],
      "source": [
        "f = coastline_obj['features'][0]\n",
        "f['properties']"
      ]
    },
    {
      "cell_type": "markdown",
      "metadata": {
        "id": "-6ePgmwqm1lW"
      },
      "source": [
        "Based on this, we can retrieve every point from each of the features and continue to create the list of `[ID, X, Y]` like we did for the lines in the graticule, and append them to the list `raw_points`:"
      ]
    },
    {
      "cell_type": "code",
      "execution_count": null,
      "metadata": {
        "id": "ECVKqcBNm1lW"
      },
      "outputs": [],
      "source": [
        "for f in coastline_obj['features']:\n",
        "    geom = f['geometry']['coordinates']\n",
        "    for p in geom[0]:\n",
        "        raw_points.append([linenum, p[0], p[1]])\n",
        "    linenum += 1\n",
        "    \n",
        "numline = linenum"
      ]
    },
    {
      "cell_type": "markdown",
      "metadata": {
        "id": "iUEalI7cm1lW"
      },
      "source": [
        "At the end, putting everything together, there should be 6534 points and 190 lines, where 56 lines are in the graticule and the 134 lines from the coastlines."
      ]
    },
    {
      "cell_type": "code",
      "execution_count": null,
      "metadata": {
        "id": "1y_WTbJNm1lW",
        "colab": {
          "base_uri": "https://localhost:8080/"
        },
        "outputId": "4097c143-7bfd-44dc-da6c-6e81fa15a14b"
      },
      "outputs": [
        {
          "output_type": "stream",
          "name": "stdout",
          "text": [
            "6534 56 190\n",
            "[0, -180, -90]\n",
            "[135, -71.04, 9.85999]\n"
          ]
        }
      ],
      "source": [
        "print(len(raw_points), numgraticule, linenum)\n",
        "print(raw_points[0])\n",
        "print(raw_points[3000])"
      ]
    },
    {
      "cell_type": "markdown",
      "metadata": {
        "id": "NQrY_mUXm1lW"
      },
      "source": [
        "### Drawing the world map\n",
        "\n",
        "With everything we have so far, we can draw a world map. Note what we have here in coordinates are latitudes and longitudes, and we normally refer to such a map or data as \"unprojected.\" We will have more discussion on this later. Right now, we can treat them as the \"original\" data that haven't been projected to a Cartesian coordinate system with meaningful distance. The \"meaningful distance\" part is critical here: distances should not be just numbers, but useful units as well so we know from one point to another is how many miles, kilometers, or other units. Using lat and long cannot give us such meaning to attach to a number for a distance measure.\n",
        "\n",
        "Nevertheless, we have the coordinates and they are numbers, which are as good as any other numbers in terms of drawing them. In order to make it more convenient, we write a function to draw the points:"
      ]
    },
    {
      "cell_type": "code",
      "execution_count": null,
      "metadata": {
        "id": "8KM7YE7Hm1lW"
      },
      "outputs": [],
      "source": [
        "def plot_world(ax, points, numgraticule, numline, color=None):\n",
        "    '''\n",
        "    Uses the data prepared by worlmap.py to plot the world map.\n",
        "    \n",
        "    Input: \n",
        "        ax:             matplotlib axes\n",
        "        points:         a list of [ [ID, X, Y], [ID, X, Y], ...]\n",
        "        numgraticule:   the number of lines forming the graticule\n",
        "        numline:        the total number of line IDs\n",
        "        color:          if not None, the color used to draw coastlines (default: #5a5a5a)\n",
        "\n",
        "    The user needs to import matplotlib.pyplot first and run plt.show() after calling this function.\n",
        "    '''\n",
        "\n",
        "    for i in range(numline):\n",
        "        if i<numgraticule:\n",
        "            col = 'lightgrey'\n",
        "        else:\n",
        "            col = '#5a5a5a'\n",
        "            if color is not None:\n",
        "                col = color\n",
        "        pts = [[p[1], p[2]] for p in points if p[0]==i]\n",
        "        l = plt.Polygon(pts, color=col, fill=False, closed=False)\n",
        "        ax.add_line(l)\n",
        "\n",
        "    ax.axis('equal')                       # x and y one the same scale\n",
        "    ax.axes.get_xaxis().set_visible(False)  # don't show axis\n",
        "    ax.axes.get_yaxis().set_visible(False)  # don't show axis\n",
        "    ax.set_frame_on(False)                  # no frame either"
      ]
    },
    {
      "cell_type": "markdown",
      "metadata": {
        "id": "-648KYNZm1lW"
      },
      "source": [
        "The function takes the matplotlib axes and three more required parameters we have prepared already: all the points in a list, the number of lines in the graticule, and the total number of lines. We also have an option to specify the color for the coastlines but we can just take the default (that is some kind of dark grey). We need to import the matplotlib."
      ]
    },
    {
      "cell_type": "code",
      "execution_count": null,
      "metadata": {
        "id": "j7z8nvXPm1lW"
      },
      "outputs": [],
      "source": [
        "%matplotlib inline\n",
        "import matplotlib.pyplot as plt"
      ]
    },
    {
      "cell_type": "code",
      "execution_count": null,
      "metadata": {
        "id": "gtL3b8udm1lW",
        "colab": {
          "base_uri": "https://localhost:8080/",
          "height": 248
        },
        "outputId": "a0c5910a-2e4b-4ac9-cef2-83f270c0a140"
      },
      "outputs": [
        {
          "output_type": "display_data",
          "data": {
            "text/plain": [
              "<Figure size 432x288 with 1 Axes>"
            ],
            "image/png": "[encoded data removed]"
          },
          "metadata": {
            "needs_background": "light"
          }
        }
      ],
      "source": [
        "_, ax = plt.subplots(1, 1)\n",
        "plot_world(ax, raw_points, numgraticule, numline)\n",
        "plt.show()"
      ]
    },
    {
      "cell_type": "markdown",
      "metadata": {
        "id": "jKQ-yiO9m1lX"
      },
      "source": [
        "## Github modules\n",
        "\n",
        "We have all the above code wrapped up in a could of github modules. \n",
        "\n",
        "- geom.worldmap: the module of https://github.com/gisalgs/geom/blob/master/worldmap.py includes everything we have to prepare the data. Inside this module there is a function called `prep_projection_data` that can be used with four options:\n",
        "    - `prep_projection_data(fname)` is the default option where `fname` is a the full path to a shapefile that is stored locally. This options uses the `shapex` module as we have seen in the previous week.\n",
        "    - `prep_projection_data(fname, _use_lib='GEOJSON')` uses a local GeoJSON file where `fanme` is the full path to that file.\n",
        "    - `prep_projection_data(fname, _use_lib='URL')` uses an online GeoJSON file where fname is the full URL to that file (as we did above).\n",
        "    - There is a fourth option that uses the OGR library. This requires the GDAL package to be installed. GDAL is a powerful library that supports many vector and raster data formats. It also powers popular GIS software packages such as QGIS. Installing it, however, can be a challenge for different operating systems. We do not use it in this class for that reason. \n",
        "\n",
        "\n",
        "Below we show how this works for the online GeoJSON file. But again the code works for local files as well. To use it locally, we should follow what we did with other modules such as point.py: we will put [worldmap.py](https://github.com/gisalgs/geom/blob/master/worldmap.py) in the same **geom** folder as we have done in the previous exercises. \n",
        "\n",
        "To use it directly in the notebook (in colab for example), we need to make sure the modules in the geom folder are all updated, as the content of the files may have changed. This is done by forcefully removing the geom folder (line 1 below) and the re-clone the package from the github source (line 2):"
      ]
    },
    {
      "cell_type": "code",
      "execution_count": null,
      "metadata": {
        "id": "oubmve67m1lX",
        "colab": {
          "base_uri": "https://localhost:8080/"
        },
        "outputId": "59e394b6-1790-42be-b60b-8b867ce24814"
      },
      "outputs": [
        {
          "output_type": "stream",
          "name": "stdout",
          "text": [
            "Cloning into 'geom'...\n",
            "remote: Enumerating objects: 314, done.\u001b[K\n",
            "remote: Total 314 (delta 0), reused 0 (delta 0), pack-reused 314\u001b[K\n",
            "Receiving objects: 100% (314/314), 57.03 KiB | 1.30 MiB/s, done.\n",
            "Resolving deltas: 100% (177/177), done.\n"
          ]
        }
      ],
      "source": [
        "!rm geom -rf\n",
        "!git clone https://github.com/gisalgs/geom.git "
      ]
    },
    {
      "cell_type": "markdown",
      "metadata": {
        "id": "at51kzE2m1lX"
      },
      "source": [
        "Now we can import the worldmap module from the geom package:"
      ]
    },
    {
      "cell_type": "code",
      "execution_count": null,
      "metadata": {
        "id": "Jf1QL0Fvm1lX"
      },
      "outputs": [],
      "source": [
        "from geom.worldmap import *"
      ]
    },
    {
      "cell_type": "code",
      "execution_count": null,
      "metadata": {
        "id": "d47wslhPm1lX",
        "colab": {
          "base_uri": "https://localhost:8080/"
        },
        "outputId": "4a47951d-185e-4187-81d8-77d1b88a6c7d"
      },
      "outputs": [
        {
          "output_type": "stream",
          "name": "stdout",
          "text": [
            "6534\n",
            "56 190\n",
            "[0, -180, -90]\n",
            "[135, -71.04, 9.85999]\n"
          ]
        }
      ],
      "source": [
        "url = 'https://raw.githubusercontent.com/gisalgs/data/master/ne_110m_coastline.geojson'\n",
        "raw_points, numgraticule, numline = prep_projection_data(url, _use_lib='URL')\n",
        "print(len(raw_points))\n",
        "print(numgraticule, numline)\n",
        "print(raw_points[0])\n",
        "print(raw_points[3000])"
      ]
    },
    {
      "cell_type": "markdown",
      "metadata": {
        "id": "-Ew3ZII7m1lX"
      },
      "source": [
        "The `plot_world` function is also included in another module called [plot_worldmap.py](https://github.com/gisalgs/geom/blob/master/plot_worldmap.py) that should also be ready to import now:"
      ]
    },
    {
      "cell_type": "code",
      "execution_count": null,
      "metadata": {
        "id": "FKyIhvrhm1lX"
      },
      "outputs": [],
      "source": [
        "from geom.plot_worldmap import *"
      ]
    },
    {
      "cell_type": "code",
      "execution_count": null,
      "metadata": {
        "id": "f39F6Vnrm1lX",
        "colab": {
          "base_uri": "https://localhost:8080/",
          "height": 248
        },
        "outputId": "91a92fbe-38de-4e1a-ed9c-2dfce5cbd572"
      },
      "outputs": [
        {
          "output_type": "display_data",
          "data": {
            "text/plain": [
              "<Figure size 432x288 with 1 Axes>"
            ],
            "image/png": "[encoded data removed]"
          },
          "metadata": {
            "needs_background": "light"
          }
        }
      ],
      "source": [
        "_, ax = plt.subplots(1, 1)\n",
        "plot_world(ax, raw_points, numgraticule, numline)\n",
        "plt.show()"
      ]
    },
    {
      "cell_type": "markdown",
      "metadata": {
        "id": "2zFLRgX9m1lX"
      },
      "source": [
        "## Equirectangular projection\n",
        "\n",
        "The equirectangular projection can be formulated as follows:\n",
        "\n",
        "$x = \\lambda \\cos(\\varphi_0)$  \n",
        "$y = \\varphi$\n",
        "\n",
        "where $\\varphi_0$ is the standard latitude or standard parallel that determines the overall width of the projected map. The special case we just saw at the beginning of today's note can be obtained by simply setting $\\varphi_0$ to 0 (the equator). \n",
        "\n",
        "This all looks straightforward. But there is a caveat here. It should be noted that the lat/lon values we use are typically in **degrees** (as in 0 to 360 degrees for a full circle), but the trigonometric functions in Python will use **radians** (as in 0 to 2$\\pi$) as the unit for angles, where 180 degree is equivalent to $\\pi$. We will need to convert them, which can be done by importing the function called `radians` from the `math` module."
      ]
    },
    {
      "cell_type": "code",
      "execution_count": null,
      "metadata": {
        "id": "8cULc9xDm1lX",
        "colab": {
          "base_uri": "https://localhost:8080/"
        },
        "outputId": "f7de30aa-36a5-49f8-c54c-9e762a3afd61"
      },
      "outputs": [
        {
          "output_type": "stream",
          "name": "stdout",
          "text": [
            "6.123233995736766e-17\n",
            "3.141592653589793\n",
            "6.283185307179586\n",
            "3.141592653589793\n",
            "0.7853981633974483\n",
            "6.123233995736766e-17\n",
            "1.0\n"
          ]
        }
      ],
      "source": [
        "from math import cos, radians, pi\n",
        "print(cos(pi/2.0))\n",
        "print(pi)\n",
        "print(radians(360))\n",
        "print(radians(180))\n",
        "print(radians(45))\n",
        "print(cos(radians(90)))\n",
        "print(cos(radians(360)))"
      ]
    },
    {
      "cell_type": "markdown",
      "metadata": {
        "id": "MnxZuv40m1lX"
      },
      "source": [
        "The Python code to make the above transformation for the equirectangular projection is listed below. \n",
        "\n",
        "```python\n",
        "def transform_equirectangular(lon, lat, lat0=0):\n",
        "    x = lon * cos(radians(lat0))\n",
        "    y = lat\n",
        "    return x, y\n",
        "```\n",
        "\n",
        "The complete code of this is also stored at gisalgs Github in [transforms.py](https://github.com/gisalgs/geom/blob/master/transforms.py). This python file also contains another function that will soon be used. We will again download this and save it into our **geom** folder. \n",
        "\n",
        "We can test this transformation function using the lon and lat of Columbus as an example."
      ]
    },
    {
      "cell_type": "code",
      "execution_count": null,
      "metadata": {
        "id": "OJeFSIq0m1lX",
        "colab": {
          "base_uri": "https://localhost:8080/"
        },
        "outputId": "4dd3b15a-91a5-41a8-863d-85a78a3db8d5"
      },
      "outputs": [
        {
          "output_type": "stream",
          "name": "stdout",
          "text": [
            "(-83.0, 40)\n"
          ]
        }
      ],
      "source": [
        "from geom.transforms import transform_equirectangular\n",
        "print(transform_equirectangular(-83, 40))"
      ]
    },
    {
      "cell_type": "markdown",
      "metadata": {
        "id": "jYguX9SDm1lX"
      },
      "source": [
        "Now we project the original data (in `raw_points`) into a new projection. This has to be done point by point:"
      ]
    },
    {
      "cell_type": "code",
      "execution_count": null,
      "metadata": {
        "scrolled": true,
        "id": "ynZixDVlm1lX"
      },
      "outputs": [],
      "source": [
        "from geom.transforms import transform_equirectangular\n",
        "\n",
        "points=[]\n",
        "for p in raw_points:\n",
        "    p1 = transform_equirectangular(p[1], p[2])\n",
        "    points.append([p[0], p1[0], p1[1]])"
      ]
    },
    {
      "cell_type": "markdown",
      "metadata": {
        "id": "tSDz9rLcm1lX"
      },
      "source": [
        "Drawing the new points is simple. Note that we use `points` instead of `raw_points` below:"
      ]
    },
    {
      "cell_type": "code",
      "execution_count": null,
      "metadata": {
        "id": "FrNimhLpm1lY",
        "colab": {
          "base_uri": "https://localhost:8080/",
          "height": 248
        },
        "outputId": "a875617b-e154-4b40-ce11-f59ec219b25b"
      },
      "outputs": [
        {
          "output_type": "display_data",
          "data": {
            "text/plain": [
              "<Figure size 432x288 with 1 Axes>"
            ],
            "image/png": "[encoded data removed]"
          },
          "metadata": {
            "needs_background": "light"
          }
        }
      ],
      "source": [
        "_, ax = plt.subplots(1, 1)\n",
        "plot_world(ax, points, numgraticule, numline)\n",
        "plt.show()"
      ]
    },
    {
      "cell_type": "markdown",
      "metadata": {
        "id": "P0Ad1Thvm1lY"
      },
      "source": [
        "So this is what happens: the plotting of the \"raw\" data (i.e., lat/lon) looks exactly the same as the projected data. This shouldn't be a surprise: the projected coordinates are indeed as same as the raw data in the special case when $\\phi_0$ is set to 0, which is the default value of the transformation function `transform_equirectangular`. Given how the projection looks, there is a good reason to call this **equirectangular** projection. The equirectangular projection apparently tends to **distort** the area, especially when we move always from the standard parallels. It should be noted that the equirectangular projection does not always produce squires as shown above (see questions below for more detail).\n"
      ]
    },
    {
      "cell_type": "code",
      "execution_count": null,
      "metadata": {
        "id": "_5msYzU2m1lY"
      },
      "outputs": [],
      "source": [
        "# TODO:\n",
        "#   Project the world map using the transform_equirectangular function where lat0 is set to 60.\n",
        "#   code here:\n",
        "\n",
        "\n",
        "\n",
        "\n"
      ]
    },
    {
      "cell_type": "code",
      "execution_count": null,
      "metadata": {
        "id": "sQR76DKym1lY"
      },
      "outputs": [],
      "source": [
        "# TODO\n",
        "#    explain below why the above map is only a half of the width as when `lat0` is the default value?\n",
        "#    You can use write your explanation below in the docstring:\n",
        "\n",
        "\n",
        "\n",
        "\n"
      ]
    },
    {
      "cell_type": "markdown",
      "metadata": {
        "id": "UF2qnUXBm1lY"
      },
      "source": [
        "## Sinusoidal projection\n",
        "\n",
        "There are projections that do not distort size and the [**sinusoidal** projection](https://en.wikipedia.org/wiki/Sinusoidal_projection) is one of them. The equations for the sinusoidal projection are also simple:\n",
        "\n",
        "$x = (\\lambda - \\lambda_0) \\cos(\\varphi)$<br/>\n",
        "$y = \\varphi$\n",
        "\n",
        "where $\\lambda_0$ is central meridian. Because the use of $\\cos(\\varphi)$, the length of parallels will become zero when $\\varphi$ reaches 90 (poles), which forces the convergence of the meridians and therefore preserve the area. Here is the Python function that does the transformation:\n",
        "\n",
        "```python\n",
        "def transform_sinusoidal(lon, lat, lon0=0):\n",
        "    lon1 = lon-lon0\n",
        "    x = lon1 * cos(radians(lat))\n",
        "    y = lat\n",
        "    return x, y\n",
        "```"
      ]
    },
    {
      "cell_type": "markdown",
      "metadata": {
        "id": "sizxbd1fm1lY"
      },
      "source": [
        "Now we follow a similar procedure as did in the previous project to draw the output. The following is the figure that illustrates the sinusoidal projection with prime meridian as the standard meridian. "
      ]
    },
    {
      "cell_type": "code",
      "execution_count": null,
      "metadata": {
        "id": "TLPeR-2gm1lY"
      },
      "outputs": [],
      "source": [
        "from geom.transforms import transform_sinusoidal\n",
        "\n",
        "points=[]\n",
        "\n",
        "# TODO:\n",
        "#   Use function transform_sinusoidal to project all points in raw_points\n",
        "#   Append the projected points and their line ID's to list point\n",
        "#   code here:\n",
        "\n",
        "\n"
      ]
    },
    {
      "cell_type": "code",
      "execution_count": null,
      "metadata": {
        "scrolled": true,
        "tags": [],
        "id": "biBQaisCm1lg"
      },
      "outputs": [],
      "source": [
        "# TODO:\n",
        "#    Draw world map in Sinusoidal projection\n",
        "#    code ehre\n",
        "\n"
      ]
    },
    {
      "cell_type": "markdown",
      "metadata": {
        "tags": [],
        "id": "g8tRkNnsm1lg"
      },
      "source": [
        "### Problems with central meridian\n",
        "\n",
        "What happens if we set `lon0` to 60 using our code? It will yield a strange, asymmetrical map. Why? We are not going to answer this in class and this will be one of the questions in the second homework. "
      ]
    },
    {
      "cell_type": "code",
      "execution_count": null,
      "metadata": {
        "scrolled": true,
        "id": "P2ogi9hfm1lg"
      },
      "outputs": [],
      "source": [
        "points1=[]\n",
        "for p in raw_points:\n",
        "    p1 = transform_sinusoidal(p[1], p[2], 60) # central meridian at 60\n",
        "    points1.append([p[0], p1[0], p1[1]])\n",
        "\n",
        "_, ax = plt.subplots(1, 1)\n",
        "plot_world(ax, points1, numgraticule, numline)\n",
        "plt.show()"
      ]
    },
    {
      "cell_type": "markdown",
      "metadata": {
        "id": "zvbN9QvMm1lg"
      },
      "source": [
        "### More on equal-area (Tissot's indicatrix)\n",
        "\n",
        "So how do we know the the Sinusoidal projection is equal-area? There are a lot of signs we can tell. For example, we can examine how the graticule looks. There are patterns that an equal area projection should follow (as discussed in many cartography classes) and we can use those to make some educated conclusions. We can also use math to tell. For a project based on a sphere with a unit radius, an equal area projection will have the following property (Snyder 1987, p. 28):\n",
        "\n",
        "$$\n",
        "\\frac{\\partial x}{\\partial \\lambda} \\frac{\\partial y}{\\partial \\varphi} - \\frac{\\partial x}{\\partial \\varphi} \\frac{\\partial y}{\\partial \\lambda} = \\cos\\varphi\n",
        "$$\n",
        "\n",
        "where $\\lambda$ is longitude and $\\varphi$ is latitude.\n",
        "\n",
        "For those who are comfortable with math, we can definitely conclude that the projection is indeed equal area. But what else? We can actually do some more visualization using a device called [Tissot's indicatrix](https://en.wikipedia.org/wiki/Tissot%27s_indicatrix). The idea is to put some infinitely small circles of the same size (mathematically unit size) at different places on the globe and then see how they look after they are projected. The original tool is a mathematically tool (who else would be interested in circles that are infinitely small?), but we can definitely relax it a little bit by using some circles that are more legible. There is a GeoJSON file that contains some circles at our [github geom repo](https://github.com/gisalgs/data/blob/master/tissot.geojson) and we will see how to use it here."
      ]
    },
    {
      "cell_type": "code",
      "execution_count": null,
      "metadata": {
        "id": "sfgN8TOWm1lg"
      },
      "outputs": [],
      "source": [
        "url = 'https://raw.githubusercontent.com/gisalgs/data/master/tissot.geojson'\n",
        "with request.urlopen(url) as response:\n",
        "    tissots = json.loads(response.read())"
      ]
    },
    {
      "cell_type": "markdown",
      "metadata": {
        "id": "P4p7vintm1lg"
      },
      "source": [
        "Each circle is just a set of systematically generated points that are separated with the same distance on the circle:"
      ]
    },
    {
      "cell_type": "code",
      "execution_count": null,
      "metadata": {
        "scrolled": true,
        "id": "c2SCkB0Ym1lh"
      },
      "outputs": [],
      "source": [
        "len(tissots['features'][0]['geometry']['coordinates'][0])"
      ]
    },
    {
      "cell_type": "markdown",
      "metadata": {
        "id": "taUyMsvLm1lh"
      },
      "source": [
        "We will first put the points on the circle in the same way as we treat the coastlines, but we will start from a new list:"
      ]
    },
    {
      "cell_type": "code",
      "execution_count": null,
      "metadata": {
        "id": "h6Piv_Fdm1lh"
      },
      "outputs": [],
      "source": [
        "tissots_raw_points = []\n",
        "\n",
        "tline = 0\n",
        "for f in tissots['features']:\n",
        "    geom = f['geometry']['coordinates']\n",
        "    for p in geom[0]:\n",
        "        tissots_raw_points.append([tline, p[0], p[1]])\n",
        "    tline += 1\n",
        "    \n",
        "tissots_points = []\n",
        "\n",
        "for p in tissots_raw_points:\n",
        "    p1 = transform_sinusoidal(p[1], p[2])\n",
        "    tissots_points.append([p[0], p1[0], p1[1]])\n",
        "\n"
      ]
    },
    {
      "cell_type": "markdown",
      "metadata": {
        "id": "S2L6qKHlm1lh"
      },
      "source": [
        "The following code calls the `plot_world` function first and then add the new lines (circles) onto the same ax. This way, we can draw everything together in one map.We should see all the circles are rendered at relatively the same size, an indication of an equal area projection."
      ]
    },
    {
      "cell_type": "code",
      "execution_count": null,
      "metadata": {
        "id": "rSbM3CTHm1lh"
      },
      "outputs": [],
      "source": [
        "_, ax = plt.subplots(1, 1)\n",
        "plot_world(ax, points, numgraticule, numline, 'darkgrey')\n",
        "\n",
        "for i in range(tline):\n",
        "    col = '#fa5a5a'\n",
        "    pts = [[p[1], p[2]] for p in tissots_points if p[0]==i]\n",
        "    l = plt.Polygon(pts, color=col, fill=False, closed=False)\n",
        "    ax.add_line(l)\n",
        "    \n",
        "plt.show()"
      ]
    },
    {
      "cell_type": "markdown",
      "metadata": {
        "id": "LAhC7udBm1lh"
      },
      "source": [
        "If we have some hard time to tell whether the sizes are the same (the are very close though), we can actually calculate the sizes using what we have learned before and print out the sizes. We just need to import a couple of modules first:"
      ]
    },
    {
      "cell_type": "code",
      "execution_count": null,
      "metadata": {
        "id": "we2EzaH4m1lh"
      },
      "outputs": [],
      "source": [
        "from geom.point import *\n",
        "from geom.centroid import *"
      ]
    },
    {
      "cell_type": "code",
      "execution_count": null,
      "metadata": {
        "id": "YwFVE9mtm1lh"
      },
      "outputs": [],
      "source": [
        "areas = []\n",
        "for f in tissots['features']:\n",
        "    polygon = []\n",
        "    for p in f['geometry']['coordinates'][0]:\n",
        "        p1 = transform_sinusoidal(p[0], p[1])\n",
        "        polygon.append(Point(p1[0], p1[1]))\n",
        "    area, _ = centroid(polygon)\n",
        "    areas.append(area)\n",
        "    \n",
        "# TODO:\n",
        "#   Draw the histogram of the areas of Tissot's indicatrix\n",
        "\n",
        "\n"
      ]
    },
    {
      "cell_type": "markdown",
      "metadata": {
        "id": "W1ejGWmym1lh"
      },
      "source": [
        "So the numbers are not exactly the same, but they are awfully close. The reason for the slight differences is the circles are not small enough. "
      ]
    },
    {
      "cell_type": "markdown",
      "metadata": {
        "id": "_Da6lGmTm1lh"
      },
      "source": [
        "## Case study\n",
        "\n",
        "Let's design a simple but interesting projection."
      ]
    },
    {
      "cell_type": "code",
      "execution_count": null,
      "metadata": {
        "id": "_M6F5Bbam1li"
      },
      "outputs": [],
      "source": [
        "def transformx(lon, lat):\n",
        "    x = lon*(90-lat)/90\n",
        "    y = lat\n",
        "    return x, y    "
      ]
    },
    {
      "cell_type": "code",
      "execution_count": null,
      "metadata": {
        "id": "KpPROLtZm1li"
      },
      "outputs": [],
      "source": [
        "# TODO\n",
        "#   show the world map using the projection implemented in function transformx\n",
        "#   code ehre:\n",
        "\n",
        "\n",
        "\n"
      ]
    },
    {
      "cell_type": "markdown",
      "metadata": {
        "id": "TPbngocdm1li"
      },
      "source": [
        "This is very promising in the sense that we have got a project where all the meridian converge at one of the poles. Can we change the formula so that they converge to both poles so that the part of meridian in the southern hemisphere converge to the south pole?"
      ]
    },
    {
      "cell_type": "code",
      "execution_count": null,
      "metadata": {
        "id": "w5Oy5jqAm1li"
      },
      "outputs": [],
      "source": [
        "# TODO\n",
        "#    change (redefine) the transformx function below so that the meridians converge to both poles\n",
        "\n",
        "\n"
      ]
    },
    {
      "cell_type": "code",
      "execution_count": null,
      "metadata": {
        "id": "reER0_Sfm1li"
      },
      "outputs": [],
      "source": [
        "# TODO\n",
        "#   project raw_points using the new transformx function\n",
        "\n"
      ]
    },
    {
      "cell_type": "code",
      "execution_count": null,
      "metadata": {
        "id": "5lv3jIFCm1li"
      },
      "outputs": [],
      "source": [
        "    \n",
        "# TODO\n",
        "#    Draw the world map using newly projected points\n",
        "\n",
        "\n"
      ]
    },
    {
      "cell_type": "markdown",
      "metadata": {
        "id": "fmUXobYmm1li"
      },
      "source": [
        "Is this an equal area projection? We will once again use the Tissot's indicatrix to visually answer it."
      ]
    },
    {
      "cell_type": "code",
      "execution_count": null,
      "metadata": {
        "id": "-za-i81Um1li"
      },
      "outputs": [],
      "source": [
        "_, ax = plt.subplots(1, 1)\n",
        "plot_world(ax, points, numgraticule, numline)\n",
        "\n",
        "   \n",
        "tissots_points = []\n",
        "\n",
        "for p in tissots_raw_points:\n",
        "    p1 = transformx(p[1], p[2])\n",
        "    tissots_points.append([p[0], p1[0], p1[1]])\n",
        "\n",
        "\n",
        "for i in range(tline):\n",
        "    col = '#fa5a5a'\n",
        "    pts = [[p[1], p[2]] for p in tissots_points if p[0]==i]\n",
        "    l = plt.Polygon(pts, color=col, fill=False, closed=False)\n",
        "    ax.add_line(l)\n",
        "    \n",
        "plt.show()"
      ]
    },
    {
      "cell_type": "markdown",
      "metadata": {
        "id": "BTXeTrVam1li"
      },
      "source": [
        "We should be able to see the transformed \"circles\" (they don't look like circles anymore) have different sizes. However, if we are not sure, we can always calculate the areas of all the transformed circles:"
      ]
    },
    {
      "cell_type": "code",
      "execution_count": null,
      "metadata": {
        "id": "52U6eN5jm1li"
      },
      "outputs": [],
      "source": [
        "# TODO:\n",
        "#   Calculate the areas of the circles projected using the new transformx function\n",
        "#   Code here\n",
        "\n",
        "\n",
        "\n"
      ]
    }
  ],
  "metadata": {
    "kernelspec": {
      "display_name": "Python 3 (ipykernel)",
      "language": "python",
      "name": "python3"
    },
    "language_info": {
      "codemirror_mode": {
        "name": "ipython",
        "version": 3
      },
      "file_extension": ".py",
      "mimetype": "text/x-python",
      "name": "python",
      "nbconvert_exporter": "python",
      "pygments_lexer": "ipython3",
      "version": "3.10.7"
    },
    "colab": {
      "provenance": []
    }
  },
  "nbformat": 4,
  "nbformat_minor": 0
}